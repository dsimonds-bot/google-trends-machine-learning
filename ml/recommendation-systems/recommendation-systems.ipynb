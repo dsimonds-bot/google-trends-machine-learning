{
  "nbformat": 4,
  "nbformat_minor": 0,
  "metadata": {
    "colab": {
      "name": "MAI LT Demo.ipynb",
      "provenance": [],
      "collapsed_sections": [],
      "authorship_tag": "ABX9TyPSNjhKBClkxb/cxGqL8XwT",
      "include_colab_link": true
    },
    "kernelspec": {
      "name": "python3",
      "display_name": "Python 3"
    },
    "language_info": {
      "name": "python"
    }
  },
  "cells": [
    {
      "cell_type": "markdown",
      "metadata": {
        "id": "view-in-github",
        "colab_type": "text"
      },
      "source": [
        "<a href=\"https://colab.research.google.com/github/dsimonds-bot/google-trends-machine-learning/blob/test/ml/recommendation-systems/recommendation-systems.ipynb\" target=\"_parent\"><img src=\"https://colab.research.google.com/assets/colab-badge.svg\" alt=\"Open In Colab\"/></a>"
      ]
    },
    {
      "cell_type": "markdown",
      "source": [
        "# MAI LT Google Colab Demo\n",
        "This is a sample preview of the code I'm writing ⚓\n",
        "\n",
        "\n",
        "\n",
        "*   Bulleted list helps with documentation\n",
        "*   Ability to insert formulas\n",
        "\n",
        "\n",
        "\n",
        "---\n",
        "\n",
        "\n"
      ],
      "metadata": {
        "id": "5lEP0cGoPwBH"
      }
    },
    {
      "cell_type": "code",
      "source": [
        "# Importing packages\n",
        "import pandas as pd\n",
        "import numpy as np\n",
        "import matplotlib.pyplot as plt"
      ],
      "metadata": {
        "id": "PMRtO-IQQESN"
      },
      "execution_count": 1,
      "outputs": []
    },
    {
      "cell_type": "code",
      "source": [
        "# Creating fake data\n",
        "\n",
        "testMarket = np.linspace(0, 100)\n",
        "controlMarket = testMarket/2"
      ],
      "metadata": {
        "id": "vmXYzamvQmnl"
      },
      "execution_count": 2,
      "outputs": []
    },
    {
      "cell_type": "code",
      "source": [
        "# Tracking a version change\n",
        "print('hello world')"
      ],
      "metadata": {
        "id": "qMqGTdCXSB8U"
      },
      "execution_count": null,
      "outputs": []
    }
  ]
}